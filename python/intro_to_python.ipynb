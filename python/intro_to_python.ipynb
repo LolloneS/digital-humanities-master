{
 "cells": [
  {
   "cell_type": "code",
   "execution_count": null,
   "metadata": {},
   "outputs": [],
   "source": [
    "# This is a single-line comment\n",
    "\n",
    "\"\"\"\n",
    "This\n",
    "is\n",
    "a\n",
    "multi-line\n",
    "comment\n",
    "\"\"\""
   ]
  },
  {
   "cell_type": "code",
   "execution_count": null,
   "metadata": {},
   "outputs": [],
   "source": [
    "# the single equal symbol assigns the right-hand side value to the left-hand side variable\n",
    "a = 3    # an integer number\n",
    "print(a)"
   ]
  },
  {
   "cell_type": "code",
   "execution_count": null,
   "metadata": {},
   "outputs": [],
   "source": [
    "# beware of the difference between left hand side and right hand side\n",
    "3 = a # error! doesn't make any sense!"
   ]
  },
  {
   "cell_type": "code",
   "execution_count": null,
   "metadata": {},
   "outputs": [],
   "source": [
    "b = '3'   # a string\n",
    "\n",
    "# equality comparison is ==, remember that = means assignment\n",
    "print(a == b)"
   ]
  },
  {
   "cell_type": "code",
   "execution_count": null,
   "metadata": {},
   "outputs": [],
   "source": [
    "# conditional statements\n",
    "x = 10\n",
    "if x % 2 == 0:  # mod operator: \"resto della divisione\"\n",
    "    print(f\"{x} is even\")\n",
    "else:\n",
    "    print(f\"{x} is odd\")\n",
    "    \n",
    "\n",
    "'''\n",
    "here we used the so-called f-strings: if you want to print the\n",
    "value of a variable, just write the variable's name between curly braces\n",
    "'''"
   ]
  },
  {
   "cell_type": "code",
   "execution_count": null,
   "metadata": {},
   "outputs": [],
   "source": [
    "'''\n",
    "we can have many different checks, even nested ones\n",
    "'''\n",
    "\n",
    "grade = 28\n",
    "\n",
    "if grade < 18:\n",
    "    print(\"failed\")\n",
    "else:\n",
    "    if grade < 25:\n",
    "        print(\"meh\")\n",
    "    else:\n",
    "        if grade < 30:\n",
    "            print(\"good job!\")\n",
    "        else:\n",
    "            if grade == 30:\n",
    "                print(\"awesome!\")\n",
    "            elif grade == 31:\n",
    "                print(\"with honors?!\")\n",
    "            else:\n",
    "                print(\"impossible...\")"
   ]
  },
  {
   "cell_type": "code",
   "execution_count": null,
   "metadata": {},
   "outputs": [],
   "source": [
    "myList = [1, 2, 3, \"hah! different data types\", 3.14]\n",
    "for element in myList:\n",
    "    print(element)\n",
    "\n",
    "print(\"or, with indices\")\n",
    "for index in range(len(myList)):\n",
    "    print(myList[index])\n"
   ]
  }
 ],
 "metadata": {
  "kernelspec": {
   "display_name": "Python 3",
   "language": "python",
   "name": "python3"
  },
  "language_info": {
   "codemirror_mode": {
    "name": "ipython",
    "version": 3
   },
   "file_extension": ".py",
   "mimetype": "text/x-python",
   "name": "python",
   "nbconvert_exporter": "python",
   "pygments_lexer": "ipython3",
   "version": "3.7.4"
  }
 },
 "nbformat": 4,
 "nbformat_minor": 2
}
