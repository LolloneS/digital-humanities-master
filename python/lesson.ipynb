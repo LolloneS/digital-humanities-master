{
 "cells": [
  {
   "cell_type": "code",
   "execution_count": null,
   "metadata": {},
   "outputs": [],
   "source": [
    "# interpretato (non compilato)\n",
    "# \"debolmente tipizzato\"\n",
    "\n",
    "# a = 5\n",
    "# print(a)\n",
    "\n",
    "# a = \"5\"\n",
    "# print(a*2)\n",
    "\n",
    "'''\n",
    "posso\n",
    "fare\n",
    "un\n",
    "commento\n",
    "multiriga\n",
    "'''\n",
    "\n",
    "var_intera = 10\n",
    "stringa = 'tra singoli o doppi apici'\n",
    "stringa2 = 'l\\'altro'\n",
    "stringa3 = \"l'altro\"\n",
    "\n",
    "var_float = 10.1\n",
    "\n",
    "print(var_intera == var_float)  # True se vero, False se falso\n",
    "\n",
    "print(1/3)\n",
    "\n",
    "\n"
   ]
  },
  {
   "cell_type": "code",
   "execution_count": null,
   "metadata": {},
   "outputs": [],
   "source": [
    "lista = [1, 2, 3, [4, 5, 6], \"prova\"]\n",
    "print(\"Stampo la lista\")\n",
    "print(lista)\n",
    "print(\"\\nStampa per elemento\")\n",
    "for elemento in lista:\n",
    "    print(elemento)\n",
    "    \n",
    "print(\"\\nLunghezza della lista\")\n",
    "print(len(lista))\n",
    "\n"
   ]
  },
  {
   "cell_type": "code",
   "execution_count": null,
   "metadata": {},
   "outputs": [],
   "source": [
    "nome = \"Lorenzo\"\n",
    "cognome = \"Soligo\"\n",
    "\n",
    "# Il nome è Lorenzo e il cognome è Soligo\n",
    "print(\"Il nome è \" + nome + \" e il cognome è \" + cognome)\n",
    "\n",
    "# f-string\n",
    "print(f\"\\n\\nIl nome è {nome} e il cognome è {cognome}\")\n",
    "\n",
    "\n",
    "eta = 24\n",
    "\n",
    "# print(\"Il nome è \" + nome + \" e il cognome è \" + cognome + \"e l'età è \" + eta)\n",
    "\n",
    "print(f\"\\n\\nIl nome è {nome} e il cognome è {cognome} e l'età è {eta}\")\n",
    "\n",
    "lista = [1, 2, 3, [4, 5, 6], \"prova\"]\n",
    "print(f\"\\n\\nLa mia lista è {lista}\")"
   ]
  },
  {
   "cell_type": "code",
   "execution_count": null,
   "metadata": {},
   "outputs": [],
   "source": [
    "a = 10\n",
    "# 10 = a\n",
    "\n",
    "# snake_case\n",
    "# camelCase\n",
    "\n",
    "a, b, c = 1, 2, 3\n",
    "\n",
    "print(f\"a == b:  {a == b}\")\n",
    "print(f\"a < b:  {a < b}\")\n",
    "\n",
    "print(\"\\n\\n\")\n",
    "x = None\n",
    "if x:\n",
    "    print(\"vero\")\n",
    "else:\n",
    "    print(\"falso\")\n",
    "    \n",
    "    \n",
    "print(\"\\n\\n\")\n",
    "\n",
    "if 10 % 2 == 0:\n",
    "    print(\"10 è pari\")\n",
    "else:\n",
    "    print(\"10 è dispari\")\n",
    "    "
   ]
  },
  {
   "cell_type": "code",
   "execution_count": null,
   "metadata": {},
   "outputs": [],
   "source": [
    "voto = 8\n",
    "if voto < 6:\n",
    "    print(\"insufficiente\")\n",
    "elif voto <= 8:\n",
    "    print(\"buono\")\n",
    "else:\n",
    "    print(\"molto buono\")"
   ]
  },
  {
   "cell_type": "code",
   "execution_count": null,
   "metadata": {},
   "outputs": [],
   "source": [
    "articolo = 'Per tutta la giornata di giovedì a Mondragone, in provincia di Caserta (Campania), ci sono state manifestazioni e scontri tra alcuni residenti italiani e altri bulgari di etnia rom, che da una decina d’anni abitano in alcuni palazzi della città. La causa degli scontri è stata una manifestazione di protesta della comunità bulgara, che chiedeva più attenzione nei propri confronti, ma diversi giornali scrivono che le tensioni latenti fra le comunità durano da molti anni e sono cresciute negli ultimi giorni a causa di un focolaio di coronavirus.'.lower()\n",
    "\n",
    "print(articolo.find(\"coronavirus\"))\n",
    "print(articolo.startswith(\"asd\"))\n",
    "\n",
    "\n"
   ]
  },
  {
   "cell_type": "code",
   "execution_count": null,
   "metadata": {},
   "outputs": [],
   "source": [
    "for i in range(0, 10, 2):\n",
    "    print(i)\n",
    "\n",
    "    \n",
    "l = [\n",
    "     i \n",
    "     if i % 2 == 0 \n",
    "     else -1 \n",
    "     for i in range(10)\n",
    "]\n",
    "\n",
    "print(l)"
   ]
  },
  {
   "cell_type": "code",
   "execution_count": null,
   "metadata": {},
   "outputs": [],
   "source": [
    "l = [5] # != 5 != \"5\"\n",
    "x = [1, 2, 3]\n",
    "\n",
    "print(l + x)\n",
    "\n",
    "\n",
    "# for elemento in lista\n",
    "# for i in range()"
   ]
  },
  {
   "cell_type": "code",
   "execution_count": null,
   "metadata": {},
   "outputs": [],
   "source": [
    "lista = [1, 2, 3, [4, 5, 6], \"prova\"]\n",
    "\n",
    "for posizione, elemento in enumerate(lista):\n",
    "    print(f\"L'elemento in posizione {posizione} è {elemento}\")\n",
    "\n",
    "print(\"\\n\\nSolo quelle pari\")\n",
    "for i in range(0, len(lista), 2):\n",
    "    print(f\"L'elemento in posizione {i} è {lista[i]}\")"
   ]
  },
  {
   "cell_type": "code",
   "execution_count": null,
   "metadata": {},
   "outputs": [],
   "source": [
    "print(list(range(100)))\n",
    "print('\\n\\n')\n",
    "print([i for i in range(100)])"
   ]
  },
  {
   "cell_type": "code",
   "execution_count": null,
   "metadata": {},
   "outputs": [],
   "source": [
    "dizionario = {}\n",
    "# coppie chiave-valore\n",
    "\n",
    "dizionario[\"prova\"] = [1, 2, 3]\n",
    "dizionario[\"dh\"] = 2020\n",
    "dizionario[\"ricorsivo\"] = {\n",
    "    \"nome\": \"lorenzo\",\n",
    "    \"cognome\": \"soligo\"\n",
    "}\n",
    "\n",
    "# print(dizionario[\"dh\"])\n",
    "\n",
    "# t = tuple(lista)\n",
    "# print(t)\n",
    "\n",
    "for key in dizionario:\n",
    "    print(f\"La chiave {key} ha valore {dizionario[key]}\")\n",
    "print('\\n\\n\\n')\n",
    "for key, value in dizionario.items():\n",
    "    print(f\"La chiave {key} ha valore {value}\")\n",
    "    \n",
    "print('\\n\\n\\n')\n",
    "    \n",
    "import json\n",
    "print(json.dumps(dizionario, indent=2))"
   ]
  },
  {
   "cell_type": "code",
   "execution_count": null,
   "metadata": {},
   "outputs": [],
   "source": [
    "def assegna_voto(punteggio):\n",
    "    if punteggio < 6:\n",
    "        return \"insufficiente\"\n",
    "    elif punteggio <= 8:\n",
    "        return \"buono\"\n",
    "    else:\n",
    "        return \"molto buono\""
   ]
  },
  {
   "cell_type": "code",
   "execution_count": null,
   "metadata": {},
   "outputs": [],
   "source": [
    "for i in range(11):\n",
    "    print(f\"Dato il punteggio {i}, il voto è {assegna_voto(i)}\")"
   ]
  },
  {
   "cell_type": "code",
   "execution_count": null,
   "metadata": {},
   "outputs": [],
   "source": [
    "def pari(x):\n",
    "    return x % 2 == 0"
   ]
  },
  {
   "cell_type": "code",
   "execution_count": null,
   "metadata": {},
   "outputs": [],
   "source": [
    "for i in range(10):\n",
    "    if pari(i):\n",
    "        print(f'{i} è pari')\n",
    "    else:\n",
    "        print(f'{i} è dispari')"
   ]
  },
  {
   "cell_type": "code",
   "execution_count": null,
   "metadata": {},
   "outputs": [],
   "source": [
    "print(not 10 % 2 == 0)"
   ]
  },
  {
   "cell_type": "code",
   "execution_count": null,
   "metadata": {},
   "outputs": [],
   "source": [
    "try:\n",
    "    print(10/3)\n",
    "except Exception:\n",
    "    print(\"Stai provando a dividere per zero!\")"
   ]
  },
  {
   "cell_type": "code",
   "execution_count": null,
   "metadata": {},
   "outputs": [],
   "source": [
    "def f(x):\n",
    "    risultato = x / 10\n",
    "    if risultato != 5:\n",
    "        return risultato\n",
    "    return None"
   ]
  },
  {
   "cell_type": "code",
   "execution_count": null,
   "metadata": {},
   "outputs": [],
   "source": [
    "n = 50\n",
    "\n",
    "if f(n) is not None:   # != None\n",
    "    print(\"Tutto ok\")\n",
    "else:\n",
    "    print(\"Ho ritornato None\")"
   ]
  },
  {
   "cell_type": "code",
   "execution_count": null,
   "metadata": {},
   "outputs": [],
   "source": []
  },
  {
   "cell_type": "code",
   "execution_count": null,
   "metadata": {},
   "outputs": [],
   "source": [
    "class Persona:\n",
    "    def __init__(self, nome, cognome):\n",
    "        self.nome = nome\n",
    "        self.cognome = cognome\n",
    "    \n",
    "    def __str__(self):\n",
    "        return f\"Nome: {self.nome}\\nCognome: {self.cognome}\"\n",
    "    \n",
    "    def set_nome(self, nuovo_nome):\n",
    "        self.nome = nuovo_nome"
   ]
  },
  {
   "cell_type": "code",
   "execution_count": null,
   "metadata": {},
   "outputs": [],
   "source": [
    "p = Persona(\"lorenzo\", \"soligo\")\n",
    "p = Persona(nome=\"lorenzo\", cognome=\"soligo\")\n",
    "\n",
    "print(p)\n"
   ]
  },
  {
   "cell_type": "code",
   "execution_count": null,
   "metadata": {},
   "outputs": [],
   "source": []
  },
  {
   "cell_type": "code",
   "execution_count": null,
   "metadata": {},
   "outputs": [],
   "source": [
    "class Persona:\n",
    "    def __init__(self, nome, cognome, eta):\n",
    "        self.nome = nome\n",
    "        self.cognome = cognome\n",
    "        self.eta = eta\n",
    "    \n",
    "    def __str__(self):\n",
    "        return f\"Nome: {self.nome}\\nCognome: {self.cognome}\\nEta: {self.eta}\"\n",
    "    \n",
    "    def compleanno(self):\n",
    "        self.eta = self.eta + 1"
   ]
  },
  {
   "cell_type": "code",
   "execution_count": null,
   "metadata": {},
   "outputs": [],
   "source": [
    "p2 = Persona(\"l\", \"s\", 24)\n",
    "\n",
    "for _ in range(10):\n",
    "    p2.compleanno()\n",
    "    print(p2)\n",
    "    print('\\n\\n')"
   ]
  },
  {
   "cell_type": "code",
   "execution_count": null,
   "metadata": {},
   "outputs": [],
   "source": [
    "lista = [i for i in range(100)]\n",
    "\n",
    "# 100 iterazioni\n",
    "for posizione, elemento in enumerate(lista):\n",
    "    print(f\"L'elemento in posizione {posizione} è {elemento}\")\n",
    "    \n",
    "# 100 iterazioni\n",
    "for posizione, elemento in enumerate(lista):\n",
    "    if posizione % 2 == 0:\n",
    "        print(f\"L'elemento in posizione {posizione} è {elemento}\")\n",
    "    \n",
    "print(\"\\n\\nSolo quelle pari\")\n",
    "# 50 iterazioni\n",
    "for i in range(0, len(lista), 2):\n",
    "    print(f\"L'elemento in posizione {i} è {lista[i]}\")"
   ]
  },
  {
   "cell_type": "code",
   "execution_count": null,
   "metadata": {},
   "outputs": [],
   "source": []
  },
  {
   "cell_type": "code",
   "execution_count": null,
   "metadata": {},
   "outputs": [],
   "source": []
  },
  {
   "cell_type": "code",
   "execution_count": null,
   "metadata": {},
   "outputs": [],
   "source": []
  },
  {
   "cell_type": "code",
   "execution_count": null,
   "metadata": {},
   "outputs": [],
   "source": [
    "from dataclasses import dataclass\n",
    "\n",
    "from typing import Any, Dict, List, Optional\n",
    "\n",
    "@dataclass\n",
    "class Persona:\n",
    "    nome: str\n",
    "    cognome: str\n",
    "    eta: int\n",
    "    nome_animali_domestici: List[str]\n",
    "    \n",
    "    def compleanno(self):\n",
    "        self.eta = self.eta + 1\n",
    "    \n",
    "        \n",
    "p = Persona(\"l\", \"s\", 24, [\"fufi\", \"stanis\"])\n",
    "print(p)\n",
    "\n",
    "p.compleanno()\n",
    "print(p)\n",
    "\n",
    "# mypy\n",
    "\n",
    "\n"
   ]
  },
  {
   "cell_type": "code",
   "execution_count": null,
   "metadata": {},
   "outputs": [],
   "source": [
    "def saluta(nome: str) -> str:\n",
    "    return f\"Ciao, {nome}\"\n",
    "\n",
    "print(saluta(\"Lorenzo\"))\n",
    "# print(saluta(10))\n",
    "\n",
    "n = 0\n",
    "\n",
    "while n < 10:\n",
    "    print(n)\n",
    "    n = n + 1"
   ]
  },
  {
   "cell_type": "code",
   "execution_count": 2,
   "metadata": {},
   "outputs": [
    {
     "name": "stdout",
     "output_type": "stream",
     "text": [
      "Dimmi un numero 5\n",
      "Dimmi un numero 4\n",
      "Dimmi un numero 3\n",
      "Dimmi un numero 2\n",
      "Dimmi un numero 1\n",
      "Dimmi un numero 10\n",
      "Uscito dal while, x è uguale a 10\n"
     ]
    }
   ],
   "source": [
    "x = int(input(\"Dimmi un numero \"))\n",
    "while x != 10:\n",
    "    x = int(input(\"Dimmi un numero \"))\n",
    "print(\"Uscito dal while, x è uguale a 10\")"
   ]
  }
 ],
 "metadata": {
  "kernelspec": {
   "display_name": "Python 3",
   "language": "python",
   "name": "python3"
  },
  "language_info": {
   "codemirror_mode": {
    "name": "ipython",
    "version": 3
   },
   "file_extension": ".py",
   "mimetype": "text/x-python",
   "name": "python",
   "nbconvert_exporter": "python",
   "pygments_lexer": "ipython3",
   "version": "3.7.4"
  }
 },
 "nbformat": 4,
 "nbformat_minor": 2
}
